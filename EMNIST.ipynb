{
 "cells": [
  {
   "cell_type": "code",
   "execution_count": 1,
   "metadata": {},
   "outputs": [],
   "source": [
    "import torch\n",
    "from torch import nn\n",
    "from PIL import Image\n",
    "import numpy as np\n",
    "import torchvision\n",
    "from torchvision import datasets\n",
    "from torchvision import transforms\n",
    "from torchvision.transforms import ToTensor\n",
    "import torchvision.transforms.functional as F\n",
    "\n",
    "import cv2\n",
    "import os\n",
    "import matplotlib.pyplot as plt"
   ]
  },
  {
   "cell_type": "code",
   "execution_count": 2,
   "metadata": {},
   "outputs": [
    {
     "name": "stdout",
     "output_type": "stream",
     "text": [
      "2.3.1+cu121\n",
      "0.18.1+cu121\n"
     ]
    }
   ],
   "source": [
    "\n",
    "print(torch.__version__)\n",
    "print(torchvision.__version__)"
   ]
  },
  {
   "cell_type": "code",
   "execution_count": 3,
   "metadata": {},
   "outputs": [],
   "source": [
    "transform = transforms.Compose([\n",
    "    transforms.ToTensor(),\n",
    "    transforms.Lambda(lambda x: torch.rot90(x, k=-1, dims=[1, 2])),  \n",
    "    transforms.Lambda(lambda x: torch.flip(x, dims=[2]))  \n",
    "])"
   ]
  },
  {
   "cell_type": "code",
   "execution_count": 4,
   "metadata": {},
   "outputs": [
    {
     "name": "stdout",
     "output_type": "stream",
     "text": [
      "Downloading https://biometrics.nist.gov/cs_links/EMNIST/gzip.zip to data\\EMNIST\\raw\\gzip.zip\n"
     ]
    },
    {
     "name": "stderr",
     "output_type": "stream",
     "text": [
      "100%|██████████| 561753746/561753746 [00:14<00:00, 38108173.49it/s]\n"
     ]
    },
    {
     "name": "stdout",
     "output_type": "stream",
     "text": [
      "Extracting data\\EMNIST\\raw\\gzip.zip to data\\EMNIST\\raw\n"
     ]
    }
   ],
   "source": [
    "train_data =  datasets.EMNIST(\n",
    "    root=\"data\",\n",
    "    split=\"byclass\",\n",
    "    train=True,\n",
    "    download=True,\n",
    "    transform=transform,\n",
    "    target_transform=None\n",
    ")   \n",
    "test_data = datasets.EMNIST(\n",
    "    root=\"data\",\n",
    "    split=\"byclass\",\n",
    "    train=False,\n",
    "    download=True,\n",
    "    transform=transform,\n",
    "    target_transform=None\n",
    ")\n"
   ]
  },
  {
   "cell_type": "code",
   "execution_count": 5,
   "metadata": {},
   "outputs": [
    {
     "data": {
      "text/plain": [
       "(torch.Size([1, 28, 28]), 42)"
      ]
     },
     "execution_count": 5,
     "metadata": {},
     "output_type": "execute_result"
    }
   ],
   "source": [
    "image, label = train_data[465]\n",
    "image.shape, label"
   ]
  },
  {
   "cell_type": "code",
   "execution_count": 6,
   "metadata": {},
   "outputs": [
    {
     "data": {
      "text/plain": [
       "(torch.Size([1, 28, 28]), 18)"
      ]
     },
     "execution_count": 6,
     "metadata": {},
     "output_type": "execute_result"
    }
   ],
   "source": [
    "image, label = test_data[766]\n",
    "image.shape, label"
   ]
  },
  {
   "cell_type": "code",
   "execution_count": 7,
   "metadata": {},
   "outputs": [
    {
     "data": {
      "text/plain": [
       "<matplotlib.image.AxesImage at 0x1a3de928410>"
      ]
     },
     "execution_count": 7,
     "metadata": {},
     "output_type": "execute_result"
    },
    {
     "data": {
      "image/png": "[encoded data removed]",
      "text/plain": [
       "<Figure size 640x480 with 1 Axes>"
      ]
     },
     "metadata": {},
     "output_type": "display_data"
    }
   ],
   "source": [
    "plt.imshow(image.squeeze(),cmap=\"gray\")"
   ]
  },
  {
   "cell_type": "code",
   "execution_count": 8,
   "metadata": {},
   "outputs": [
    {
     "data": {
      "text/plain": [
       "631997"
      ]
     },
     "execution_count": 8,
     "metadata": {},
     "output_type": "execute_result"
    }
   ],
   "source": [
    "random_idx = torch.randint(0, len(train_data), size=[1])\n",
    "random_idx.item()"
   ]
  },
  {
   "cell_type": "code",
   "execution_count": 9,
   "metadata": {},
   "outputs": [
    {
     "name": "stdout",
     "output_type": "stream",
     "text": [
      "Dataloaders: (<torch.utils.data.dataloader.DataLoader object at 0x000001A3DE8E7650>, <torch.utils.data.dataloader.DataLoader object at 0x000001A3DE8E5F40>)\n",
      "Length of train dataloader: 21811 batches of 32\n",
      "Length of test dataloader: 3636 batches of 32\n"
     ]
    }
   ],
   "source": [
    "from torch.utils.data import DataLoader\n",
    "BATCH_SIZE = 32\n",
    "\n",
    "train_dl = DataLoader(train_data,\n",
    "                      batch_size=BATCH_SIZE,\n",
    "                      shuffle=True)\n",
    "\n",
    "test_dl = DataLoader(test_data,\n",
    "                      batch_size=BATCH_SIZE,\n",
    "                      shuffle=False)\n",
    "print(f\"Dataloaders: {train_dl, test_dl}\") \n",
    "print(f\"Length of train dataloader: {len(train_dl)} batches of {BATCH_SIZE}\")\n",
    "print(f\"Length of test dataloader: {len(test_dl)} batches of {BATCH_SIZE}\")"
   ]
  },
  {
   "cell_type": "code",
   "execution_count": 10,
   "metadata": {},
   "outputs": [
    {
     "data": {
      "text/plain": [
       "['0',\n",
       " '1',\n",
       " '2',\n",
       " '3',\n",
       " '4',\n",
       " '5',\n",
       " '6',\n",
       " '7',\n",
       " '8',\n",
       " '9',\n",
       " 'A',\n",
       " 'B',\n",
       " 'C',\n",
       " 'D',\n",
       " 'E',\n",
       " 'F',\n",
       " 'G',\n",
       " 'H',\n",
       " 'I',\n",
       " 'J',\n",
       " 'K',\n",
       " 'L',\n",
       " 'M',\n",
       " 'N',\n",
       " 'O',\n",
       " 'P',\n",
       " 'Q',\n",
       " 'R',\n",
       " 'S',\n",
       " 'T',\n",
       " 'U',\n",
       " 'V',\n",
       " 'W',\n",
       " 'X',\n",
       " 'Y',\n",
       " 'Z',\n",
       " 'a',\n",
       " 'b',\n",
       " 'c',\n",
       " 'd',\n",
       " 'e',\n",
       " 'f',\n",
       " 'g',\n",
       " 'h',\n",
       " 'i',\n",
       " 'j',\n",
       " 'k',\n",
       " 'l',\n",
       " 'm',\n",
       " 'n',\n",
       " 'o',\n",
       " 'p',\n",
       " 'q',\n",
       " 'r',\n",
       " 's',\n",
       " 't',\n",
       " 'u',\n",
       " 'v',\n",
       " 'w',\n",
       " 'x',\n",
       " 'y',\n",
       " 'z']"
      ]
     },
     "execution_count": 10,
     "metadata": {},
     "output_type": "execute_result"
    }
   ],
   "source": [
    "train_featuresbatch, train_labelsbatch = next(iter(train_dl))\n",
    "train_featuresbatch.shape, train_labelsbatch.shape\n",
    "class_names = train_data.classes\n",
    "class_names"
   ]
  },
  {
   "cell_type": "code",
   "execution_count": 11,
   "metadata": {},
   "outputs": [
    {
     "data": {
      "text/plain": [
       "'cuda'"
      ]
     },
     "execution_count": 11,
     "metadata": {},
     "output_type": "execute_result"
    }
   ],
   "source": [
    "device = \"cuda\" if torch.cuda.is_available() else \"cpu\"\n",
    "device"
   ]
  },
  {
   "cell_type": "code",
   "execution_count": 12,
   "metadata": {},
   "outputs": [],
   "source": [
    "def accuracy_fn(true,pred):\n",
    "    correct = torch.eq(true,pred).sum().item()\n",
    "    acc = (correct/len(pred)) * 100\n",
    "    return acc"
   ]
  },
  {
   "cell_type": "code",
   "execution_count": 13,
   "metadata": {},
   "outputs": [],
   "source": [
    "#Timer\n",
    "from timeit import default_timer as timer \n",
    "def print_train_time(start: float, end: float, device: torch.device = None):\n",
    "    total_time = end - start\n",
    "    print(f\"Train time on {device}: {total_time:.3f} seconds\")\n",
    "    return total_time"
   ]
  },
  {
   "cell_type": "code",
   "execution_count": 14,
   "metadata": {},
   "outputs": [],
   "source": [
    "torch.manual_seed(42)\n",
    "def eval_model(model: torch.nn.Module, \n",
    "               data_loader: torch.utils.data.DataLoader, \n",
    "               loss_fn: torch.nn.Module, \n",
    "               accuracy_fn,\n",
    "               device:torch.device=device):\n",
    "    loss, acc = 0, 0\n",
    "    model.eval()\n",
    "    with torch.inference_mode():\n",
    "        for X, y in data_loader:\n",
    "            X,y = X.to(device),y.to(device)\n",
    "            y_pred = model(X)\n",
    "            \n",
    "            loss += loss_fn(y_pred, y)\n",
    "            acc += accuracy_fn(true=y, \n",
    "                                pred=y_pred.argmax(dim=1)) \n",
    "        loss /= len(data_loader)\n",
    "        acc /= len(data_loader)\n",
    "        \n",
    "    return {\"model_name\": model.__class__.__name__, \n",
    "            \"model_loss\": loss.item(),\n",
    "            \"model_acc\": acc}"
   ]
  },
  {
   "cell_type": "code",
   "execution_count": 15,
   "metadata": {},
   "outputs": [],
   "source": [
    "def train_model(model:torch.nn.Module,\n",
    "               data_loader: torch.utils.data.DataLoader,\n",
    "               lossfn: torch.nn.Module,\n",
    "               optimizer: torch.optim.Optimizer,\n",
    "               accuracy_fn,\n",
    "               device: torch.device = device):    \n",
    "    train_loss, train_acc = 0, 0\n",
    "    model.to(device)\n",
    "    for batch, (X, y) in enumerate(data_loader):\n",
    "        X,y = X.to(device),y.to(device)\n",
    "        y_pred = model(X)\n",
    "\n",
    "        loss = lossfn(y_pred, y)\n",
    "        train_loss += loss\n",
    "        train_acc += accuracy_fn(true=y,pred = y_pred.argmax(dim=1))\n",
    "\n",
    "        optimizer.zero_grad()\n",
    "        loss.backward()\n",
    "        optimizer.step()\n",
    "\n",
    "\n",
    "    train_loss /= len(data_loader)\n",
    "    train_acc /= len(data_loader)\n",
    "\n",
    "    print(f\"\\nTrain loss: {train_loss:.5f} | Train acc: {train_acc:.2f}%\\n\")"
   ]
  },
  {
   "cell_type": "code",
   "execution_count": 16,
   "metadata": {},
   "outputs": [],
   "source": [
    "def test_model(model:torch.nn.Module,\n",
    "               data_loader: torch.utils.data.DataLoader,\n",
    "               lossfn: torch.nn.Module,\n",
    "               accuracy_fn,\n",
    "               device: torch.device = device):\n",
    "    test_loss,test_acc = 0,0\n",
    "    model.to(device)\n",
    "    model.eval()\n",
    "\n",
    "    with torch.inference_mode():\n",
    "        for X, y in data_loader:\n",
    "            X, y = X.to(device), y.to(device)\n",
    "            \n",
    "            test_pred = model(X)\n",
    "            \n",
    "            test_loss += lossfn(test_pred, y)\n",
    "            test_acc += accuracy_fn(true=y, \n",
    "                                pred=test_pred.argmax(dim=1)) \n",
    "        test_loss /= len(data_loader)\n",
    "        test_acc /= len(data_loader)\n",
    "        \n",
    "    print(f\"\\nTest loss: {test_loss:.5f} | Test acc: {test_acc:.2f}%\\n\")"
   ]
  },
  {
   "cell_type": "code",
   "execution_count": 17,
   "metadata": {},
   "outputs": [],
   "source": [
    "#Model\n",
    "class EMNISTV0(nn.Module):\n",
    "    def __init__(self, input_shape:int, hidden_units: int, output_shape:int):\n",
    "        super().__init__()\n",
    "        self.block1 = nn.Sequential(\n",
    "            nn.Conv2d(in_channels=input_shape,\n",
    "                      out_channels=hidden_units,\n",
    "                      kernel_size=3,\n",
    "                      stride=1,\n",
    "                      padding=1),\n",
    "            nn.ReLU(),\n",
    "            nn.Conv2d(in_channels=hidden_units,\n",
    "                      out_channels=hidden_units,\n",
    "                      kernel_size=3,\n",
    "                      stride=1,\n",
    "                      padding=1),\n",
    "            nn.ReLU(),\n",
    "            nn.MaxPool2d(kernel_size=2)\n",
    "        )\n",
    "        self.block2 = nn.Sequential(\n",
    "            nn.Conv2d(in_channels=hidden_units,\n",
    "                      out_channels=hidden_units,\n",
    "                      kernel_size=3,\n",
    "                      stride=1,\n",
    "                      padding=1),\n",
    "            nn.ReLU(),\n",
    "            nn.Conv2d(in_channels=hidden_units,\n",
    "                      out_channels=hidden_units,\n",
    "                      kernel_size=3,\n",
    "                      stride=1,\n",
    "                      padding=1),\n",
    "            nn.ReLU(),\n",
    "            nn.MaxPool2d(kernel_size=2)\n",
    "        )\n",
    "        self.classifier = nn.Sequential(\n",
    "            nn.Flatten(),\n",
    "            nn.Linear(in_features=hidden_units*7*7,\n",
    "                      out_features=output_shape)\n",
    "        )\n",
    "\n",
    "    def forward(self,x):\n",
    "        x = self.block1(x)\n",
    "        x = self.block2(x)\n",
    "        x = self.classifier(x)\n",
    "        return x"
   ]
  },
  {
   "cell_type": "code",
   "execution_count": 18,
   "metadata": {},
   "outputs": [
    {
     "data": {
      "text/plain": [
       "EMNISTV0(\n",
       "  (block1): Sequential(\n",
       "    (0): Conv2d(1, 32, kernel_size=(3, 3), stride=(1, 1), padding=(1, 1))\n",
       "    (1): ReLU()\n",
       "    (2): Conv2d(32, 32, kernel_size=(3, 3), stride=(1, 1), padding=(1, 1))\n",
       "    (3): ReLU()\n",
       "    (4): MaxPool2d(kernel_size=2, stride=2, padding=0, dilation=1, ceil_mode=False)\n",
       "  )\n",
       "  (block2): Sequential(\n",
       "    (0): Conv2d(32, 32, kernel_size=(3, 3), stride=(1, 1), padding=(1, 1))\n",
       "    (1): ReLU()\n",
       "    (2): Conv2d(32, 32, kernel_size=(3, 3), stride=(1, 1), padding=(1, 1))\n",
       "    (3): ReLU()\n",
       "    (4): MaxPool2d(kernel_size=2, stride=2, padding=0, dilation=1, ceil_mode=False)\n",
       "  )\n",
       "  (classifier): Sequential(\n",
       "    (0): Flatten(start_dim=1, end_dim=-1)\n",
       "    (1): Linear(in_features=1568, out_features=62, bias=True)\n",
       "  )\n",
       ")"
      ]
     },
     "execution_count": 18,
     "metadata": {},
     "output_type": "execute_result"
    }
   ],
   "source": [
    "torch.manual_seed(42)\n",
    "model = EMNISTV0(input_shape=1,\n",
    "                        hidden_units=32,\n",
    "                        output_shape=len(class_names)).to(device)\n",
    "model"
   ]
  },
  {
   "cell_type": "code",
   "execution_count": 19,
   "metadata": {},
   "outputs": [
    {
     "data": {
      "text/plain": [
       "WindowsPath('models/EMNISTV1.pth')"
      ]
     },
     "execution_count": 19,
     "metadata": {},
     "output_type": "execute_result"
    }
   ],
   "source": [
    "from pathlib import Path\n",
    "ModelPath = Path(\"models\")\n",
    "ModelPath.mkdir(parents= True,exist_ok= True)\n",
    "\n",
    "ModelName = \"EMNISTV1.pth\"\n",
    "ModelSavePath = ModelPath / ModelName   \n",
    "ModelSavePath"
   ]
  },
  {
   "cell_type": "code",
   "execution_count": 20,
   "metadata": {},
   "outputs": [
    {
     "data": {
      "text/plain": [
       "<All keys matched successfully>"
      ]
     },
     "execution_count": 20,
     "metadata": {},
     "output_type": "execute_result"
    }
   ],
   "source": [
    "model.load_state_dict(torch.load(ModelSavePath))"
   ]
  },
  {
   "cell_type": "code",
   "execution_count": 54,
   "metadata": {},
   "outputs": [
    {
     "data": {
      "text/plain": [
       "torch.Size([32, 3, 64, 64])"
      ]
     },
     "execution_count": 54,
     "metadata": {},
     "output_type": "execute_result"
    }
   ],
   "source": [
    "images = torch.rand(size=[32,3,64,64])\n",
    "images.shape"
   ]
  },
  {
   "cell_type": "code",
   "execution_count": 55,
   "metadata": {},
   "outputs": [
    {
     "data": {
      "text/plain": [
       "torch.Size([1, 10, 64, 64])"
      ]
     },
     "execution_count": 55,
     "metadata": {},
     "output_type": "execute_result"
    }
   ],
   "source": [
    "torch.manual_seed(42)\n",
    "conv_layer = nn.Conv2d(in_channels=3,\n",
    "                       out_channels=10,\n",
    "                       kernel_size=3,\n",
    "                       stride=1,\n",
    "                       padding=1)\n",
    "\n",
    "conv_layer(images[0].unsqueeze(dim=0)).shape"
   ]
  },
  {
   "cell_type": "code",
   "execution_count": 21,
   "metadata": {},
   "outputs": [],
   "source": [
    "lossfn = nn.CrossEntropyLoss()\n",
    "optimizer = torch.optim.SGD(params = model.parameters(),\n",
    "                        lr = 0.1)\n",
    "from tqdm.auto import tqdm"
   ]
  },
  {
   "cell_type": "code",
   "execution_count": 57,
   "metadata": {},
   "outputs": [
    {
     "data": {
      "application/vnd.jupyter.widget-view+json": {
       "model_id": "42a74e152e8b4bb7b1a45d17ec65bd0a",
       "version_major": 2,
       "version_minor": 0
      },
      "text/plain": [
       "  0%|          | 0/20 [00:00<?, ?it/s]"
      ]
     },
     "metadata": {},
     "output_type": "display_data"
    },
    {
     "name": "stdout",
     "output_type": "stream",
     "text": [
      "Epoch: 0\n",
      "-----\n",
      "\n",
      "Train loss: 0.51220 | Train acc: 82.78%\n",
      "\n",
      "\n",
      "Test loss: 0.42559 | Test acc: 84.51%\n",
      "\n",
      "Epoch: 1\n",
      "-----\n",
      "\n",
      "Train loss: 0.39888 | Train acc: 85.57%\n",
      "\n",
      "\n",
      "Test loss: 0.39840 | Test acc: 85.36%\n",
      "\n",
      "Epoch: 2\n",
      "-----\n",
      "\n",
      "Train loss: 0.37889 | Train acc: 86.16%\n",
      "\n",
      "\n",
      "Test loss: 0.38779 | Test acc: 86.20%\n",
      "\n",
      "Epoch: 3\n",
      "-----\n",
      "\n",
      "Train loss: 0.36787 | Train acc: 86.46%\n",
      "\n",
      "\n",
      "Test loss: 0.37635 | Test acc: 86.37%\n",
      "\n",
      "Epoch: 4\n",
      "-----\n",
      "\n",
      "Train loss: 0.35996 | Train acc: 86.74%\n",
      "\n",
      "\n",
      "Test loss: 0.37485 | Test acc: 86.30%\n",
      "\n",
      "Epoch: 5\n",
      "-----\n",
      "\n",
      "Train loss: 0.35445 | Train acc: 86.88%\n",
      "\n",
      "\n",
      "Test loss: 0.37100 | Test acc: 86.20%\n",
      "\n",
      "Epoch: 6\n",
      "-----\n",
      "\n",
      "Train loss: 0.34975 | Train acc: 86.98%\n",
      "\n",
      "\n",
      "Test loss: 0.37556 | Test acc: 86.16%\n",
      "\n",
      "Epoch: 7\n",
      "-----\n",
      "\n",
      "Train loss: 0.34575 | Train acc: 87.11%\n",
      "\n",
      "\n",
      "Test loss: 0.37075 | Test acc: 86.37%\n",
      "\n",
      "Epoch: 8\n",
      "-----\n",
      "\n",
      "Train loss: 0.34203 | Train acc: 87.23%\n",
      "\n",
      "\n",
      "Test loss: 0.37036 | Test acc: 86.55%\n",
      "\n",
      "Epoch: 9\n",
      "-----\n",
      "\n",
      "Train loss: 0.33945 | Train acc: 87.29%\n",
      "\n",
      "\n",
      "Test loss: 0.36831 | Test acc: 86.58%\n",
      "\n",
      "Epoch: 10\n",
      "-----\n",
      "\n",
      "Train loss: 0.33696 | Train acc: 87.37%\n",
      "\n",
      "\n",
      "Test loss: 0.37516 | Test acc: 86.15%\n",
      "\n",
      "Epoch: 11\n",
      "-----\n",
      "\n",
      "Train loss: 0.33477 | Train acc: 87.43%\n",
      "\n",
      "\n",
      "Test loss: 0.37178 | Test acc: 86.39%\n",
      "\n",
      "Epoch: 12\n",
      "-----\n",
      "\n",
      "Train loss: 0.33249 | Train acc: 87.51%\n",
      "\n",
      "\n",
      "Test loss: 0.36429 | Test acc: 86.55%\n",
      "\n",
      "Epoch: 13\n",
      "-----\n",
      "\n",
      "Train loss: 0.33100 | Train acc: 87.53%\n",
      "\n",
      "\n",
      "Test loss: 0.37571 | Test acc: 86.47%\n",
      "\n",
      "Epoch: 14\n",
      "-----\n",
      "\n",
      "Train loss: 0.32884 | Train acc: 87.61%\n",
      "\n",
      "\n",
      "Test loss: 0.36684 | Test acc: 86.73%\n",
      "\n",
      "Epoch: 15\n",
      "-----\n",
      "\n",
      "Train loss: 0.32726 | Train acc: 87.63%\n",
      "\n",
      "\n",
      "Test loss: 0.36903 | Test acc: 86.62%\n",
      "\n",
      "Epoch: 16\n",
      "-----\n",
      "\n",
      "Train loss: 0.32617 | Train acc: 87.68%\n",
      "\n",
      "\n",
      "Test loss: 0.37172 | Test acc: 86.52%\n",
      "\n",
      "Epoch: 17\n",
      "-----\n",
      "\n",
      "Train loss: 0.32485 | Train acc: 87.70%\n",
      "\n",
      "\n",
      "Test loss: 0.37422 | Test acc: 86.30%\n",
      "\n",
      "Epoch: 18\n",
      "-----\n",
      "\n",
      "Train loss: 0.32341 | Train acc: 87.71%\n",
      "\n",
      "\n",
      "Test loss: 0.37143 | Test acc: 86.47%\n",
      "\n",
      "Epoch: 19\n",
      "-----\n",
      "\n",
      "Train loss: 0.32207 | Train acc: 87.78%\n",
      "\n",
      "\n",
      "Test loss: 0.37200 | Test acc: 86.43%\n",
      "\n",
      "Train time on cuda: 2517.931 seconds\n"
     ]
    },
    {
     "data": {
      "text/plain": [
       "2517.931066600009"
      ]
     },
     "execution_count": 57,
     "metadata": {},
     "output_type": "execute_result"
    }
   ],
   "source": [
    "torch.manual_seed(42)\n",
    "traintime_startmodel2 = timer()\n",
    "\n",
    "epochs = 20\n",
    "\n",
    "for epoch in tqdm(range(epochs)):\n",
    "    print(f\"Epoch: {epoch}\\n-----\")\n",
    "    train_model(model=model,\n",
    "                data_loader=train_dl,\n",
    "                lossfn=lossfn,\n",
    "                optimizer=optimizer,\n",
    "                accuracy_fn=accuracy_fn,\n",
    "                device=\"cuda\")\n",
    "    test_model(model=model,\n",
    "                data_loader=test_dl,\n",
    "                lossfn=lossfn,\n",
    "                accuracy_fn=accuracy_fn,\n",
    "                device=\"cuda\")\n",
    "traintime_endmodel2 = timer()\n",
    "print_train_time(start=traintime_startmodel2,\n",
    "                 end=traintime_endmodel2,\n",
    "                 device = \"cuda\")"
   ]
  },
  {
   "cell_type": "code",
   "execution_count": 22,
   "metadata": {},
   "outputs": [],
   "source": [
    "model_results = eval_model(model=model,\n",
    "                              data_loader=test_dl,\n",
    "                              loss_fn=lossfn,\n",
    "                              accuracy_fn=accuracy_fn,\n",
    "                              device=\"cuda\")\n"
   ]
  },
  {
   "cell_type": "code",
   "execution_count": 23,
   "metadata": {},
   "outputs": [
    {
     "data": {
      "text/plain": [
       "86.62191740007334"
      ]
     },
     "execution_count": 23,
     "metadata": {},
     "output_type": "execute_result"
    }
   ],
   "source": [
    "model_results[\"model_acc\"]"
   ]
  },
  {
   "cell_type": "code",
   "execution_count": 25,
   "metadata": {},
   "outputs": [
    {
     "data": {
      "text/html": [
       "<div>\n",
       "<style scoped>\n",
       "    .dataframe tbody tr th:only-of-type {\n",
       "        vertical-align: middle;\n",
       "    }\n",
       "\n",
       "    .dataframe tbody tr th {\n",
       "        vertical-align: top;\n",
       "    }\n",
       "\n",
       "    .dataframe thead th {\n",
       "        text-align: right;\n",
       "    }\n",
       "</style>\n",
       "<table border=\"1\" class=\"dataframe\">\n",
       "  <thead>\n",
       "    <tr style=\"text-align: right;\">\n",
       "      <th></th>\n",
       "      <th>model_name</th>\n",
       "      <th>model_loss</th>\n",
       "      <th>model_acc</th>\n",
       "    </tr>\n",
       "  </thead>\n",
       "  <tbody>\n",
       "    <tr>\n",
       "      <th>0</th>\n",
       "      <td>EMNISTV0</td>\n",
       "      <td>0.368208</td>\n",
       "      <td>86.621917</td>\n",
       "    </tr>\n",
       "  </tbody>\n",
       "</table>\n",
       "</div>"
      ],
      "text/plain": [
       "  model_name  model_loss  model_acc\n",
       "0   EMNISTV0    0.368208  86.621917"
      ]
     },
     "execution_count": 25,
     "metadata": {},
     "output_type": "execute_result"
    }
   ],
   "source": [
    "import pandas as pd\n",
    "compare_results = pd.DataFrame([model_results])\n",
    "compare_results"
   ]
  },
  {
   "cell_type": "code",
   "execution_count": 25,
   "metadata": {},
   "outputs": [],
   "source": [
    "def make_predictions(model:torch.nn.Module,\n",
    "                     data:list,\n",
    "                     device:torch.device=\"cuda\"):\n",
    "    pred_probs = []\n",
    "    model.to(device)\n",
    "    model.eval()\n",
    "    with torch.inference_mode():\n",
    "        for sample in data:\n",
    "            sample = torch.unsqueeze(sample,dim=0).to(device)\n",
    "            pred_logits = model(sample)\n",
    "            pred_prob = torch.softmax(pred_logits.squeeze(),dim=0)\n",
    "            pred_probs.append(pred_prob.cuda())\n",
    "\n",
    "    return torch.stack(pred_probs)"
   ]
  },
  {
   "cell_type": "code",
   "execution_count": 23,
   "metadata": {},
   "outputs": [
    {
     "name": "stdout",
     "output_type": "stream",
     "text": [
      "Test sample image shape: torch.Size([1, 28, 28])\n",
      "Test sample label: 3 (3)\n"
     ]
    }
   ],
   "source": [
    "import random\n",
    "random.seed(64)\n",
    "test_samples = []\n",
    "test_labels = []\n",
    "for sample, label in random.sample(list(test_data), k=9):\n",
    "    test_samples.append(sample)\n",
    "    test_labels.append(label)\n",
    "print(f\"Test sample image shape: {test_samples[0].shape}\\nTest sample label: {test_labels[0]} ({class_names[test_labels[0]]})\")"
   ]
  },
  {
   "cell_type": "code",
   "execution_count": 24,
   "metadata": {},
   "outputs": [
    {
     "data": {
      "text/plain": [
       "tensor([ 3,  1, 49,  3,  1, 36, 53, 23, 55], device='cuda:0')"
      ]
     },
     "execution_count": 24,
     "metadata": {},
     "output_type": "execute_result"
    }
   ],
   "source": [
    "pred_probs= make_predictions(model=model, \n",
    "                             data=test_samples)\n",
    "pred_classes = pred_probs.argmax(dim=1)\n",
    "pred_classes"
   ]
  },
  {
   "cell_type": "code",
   "execution_count": 25,
   "metadata": {},
   "outputs": [
    {
     "data": {
      "text/plain": [
       "([3, 47, 49, 3, 1, 36, 53, 23, 55],\n",
       " tensor([ 3,  1, 49,  3,  1, 36, 53, 23, 55], device='cuda:0'))"
      ]
     },
     "execution_count": 25,
     "metadata": {},
     "output_type": "execute_result"
    }
   ],
   "source": [
    "test_labels, pred_classes"
   ]
  },
  {
   "cell_type": "code",
   "execution_count": 26,
   "metadata": {},
   "outputs": [
    {
     "data": {
      "image/png": "[encoded data removed]",
      "text/plain": [
       "<Figure size 640x480 with 9 Axes>"
      ]
     },
     "metadata": {},
     "output_type": "display_data"
    }
   ],
   "source": [
    "plt.figure()\n",
    "nrows = 3\n",
    "ncols = 3\n",
    "for i, sample in enumerate(test_samples):\n",
    "    plt.subplot(nrows, ncols, i+1)\n",
    "    plt.imshow(sample.squeeze(), cmap=\"gray\")\n",
    "    pred_label = class_names[pred_classes[i]]\n",
    "    truth_label = class_names[test_labels[i]] \n",
    "    title_text = f\"Pred: {pred_label} | Truth: {truth_label}\"\n",
    "    \n",
    "    if pred_label == truth_label:\n",
    "        plt.title(title_text, fontsize=10, c=\"g\") \n",
    "    else:\n",
    "        plt.title(title_text, fontsize=10, c=\"r\") \n",
    "    plt.axis(False)"
   ]
  },
  {
   "cell_type": "code",
   "execution_count": 31,
   "metadata": {},
   "outputs": [],
   "source": [
    "torch.save(obj=model.state_dict(),f = ModelSavePath)"
   ]
  },
  {
   "cell_type": "code",
   "execution_count": null,
   "metadata": {},
   "outputs": [
    {
     "name": "stdout",
     "output_type": "stream",
     "text": [
      "Predicted phrase: HELL0 W0RLD\n"
     ]
    }
   ],
   "source": [
    "from collections import defaultdict\n",
    "import re\n",
    "image_dir = 'preprocessed/'\n",
    "device = torch.device(\"cuda\" if torch.cuda.is_available() else \"cpu\")\n",
    "\n",
    "\n",
    "transform2 = transforms.Compose([\n",
    "    transforms.ToTensor(),  \n",
    "])\n",
    "\n",
    "image_files = sorted([f for f in os.listdir(image_dir) if f.endswith('.png')])\n",
    "word_groups = defaultdict(list)\n",
    "\n",
    "for filename in image_files:\n",
    "    match = re.match(r\"(text\\d+)_(\\d+)\\.png\", filename)\n",
    "    if match:\n",
    "        word_id, letter_idx = match.groups()\n",
    "        word_groups[word_id].append((int(letter_idx), filename))\n",
    "\n",
    "full_phrase = []\n",
    "for word_id in sorted(word_groups.keys(), key=lambda x: int(x[4:])):  #sort words by number\n",
    "    sorted_files = [fname for _, fname in sorted(word_groups[word_id])]\n",
    "    img_tensors = []\n",
    "\n",
    "    for filename in sorted_files:\n",
    "        img_path = os.path.join(image_dir, filename)\n",
    "        preprocessed_img = cv2.imread(img_path)\n",
    "\n",
    "        if preprocessed_img is None:\n",
    "            print(f\"Warning: {filename} couldn't be read.\")\n",
    "            continue\n",
    "\n",
    "        image = cv2.cvtColor(preprocessed_img, cv2.COLOR_BGR2GRAY)\n",
    "        image = 255 - image\n",
    "        resized = cv2.resize(image, (28, 28), interpolation=cv2.INTER_AREA)\n",
    "\n",
    "        for x in range(28):\n",
    "            for y in range(28):\n",
    "                if resized[x][y] < 105:\n",
    "                    resized[x][y] = 0\n",
    "\n",
    "        resized = resized / 255.0\n",
    "        img_tensor = transform2(resized).to(torch.float32)\n",
    "        img_tensors.append(img_tensor)\n",
    "\n",
    "    if not img_tensors:\n",
    "        continue\n",
    "\n",
    "    batch_tensor = torch.stack(img_tensors).to(device)\n",
    "\n",
    "    with torch.no_grad():\n",
    "        pred_probs = make_predictions(model, data=batch_tensor)\n",
    "        pred_classes = pred_probs.argmax(dim=1)\n",
    "\n",
    "    predicted_letters = [class_names[i] for i in pred_classes]\n",
    "    predicted_word = ''.join(predicted_letters)\n",
    "    full_phrase.append(predicted_word)\n",
    "\n",
    "final_output = ' '.join(full_phrase)\n",
    "print(f\"Predicted phrase: {final_output}\")"
   ]
  }
 ],
 "metadata": {
  "kernelspec": {
   "display_name": "Python 3",
   "language": "python",
   "name": "python3"
  },
  "language_info": {
   "codemirror_mode": {
    "name": "ipython",
    "version": 3
   },
   "file_extension": ".py",
   "mimetype": "text/x-python",
   "name": "python",
   "nbconvert_exporter": "python",
   "pygments_lexer": "ipython3",
   "version": "3.12.4"
  }
 },
 "nbformat": 4,
 "nbformat_minor": 2
}
